{
 "cells": [
  {
   "cell_type": "markdown",
   "metadata": {},
   "source": [
    "# Activité : Découverte des Vecteurs en Python\n",
    "\n",
    "Dans cette activité, nous allons explorer les vecteurs et leurs opérations de base en utilisant Python. Cette activité est destinée aux élèves de niveau seconde."
   ]
  },
  {
   "cell_type": "code",
   "execution_count": null,
   "metadata": {},
   "outputs": [],
   "source": [
    "# Importation des bibliothèques nécessaires\n",
    "import numpy as np\n",
    "import matplotlib.pyplot as plt"
   ]
  },
  {
   "cell_type": "markdown",
   "metadata": {},
   "source": [
    "## Exercice 1 : Création de Vecteurs\n",
    "\n",
    "Créez deux vecteurs `vecteur_a` et `vecteur_b` avec les coordonnées suivantes :\n",
    "- Vecteur A : (2, 3)\n",
    "- Vecteur B : (4, 1)\n",
    "\n",
    "Complétez le code ci-dessous puis exécutez-le pour vérifier vos réponses."
   ]
  },
  {
   "cell_type": "code",
   "execution_count": null,
   "metadata": {},
   "outputs": [],
   "source": [
    "# Création de vecteurs\n",
    "vecteur_a = np.array([...., ....])  # Complétez avec les coordonnées du vecteur A\n",
    "vecteur_b = ......  # Complétez avec les coordonnées du vecteur B\n",
    "print(\"Vecteur A:\", vecteur_a)\n",
    "print(\"Vecteur B:\", vecteur_b)"
   ]
  },
  {
   "cell_type": "markdown",
   "metadata": {},
   "source": [
    "## Exercice 2 : Création d'un Vecteur à partir de deux Points\n",
    "\n",
    "Créez une fonction `creer_vecteur` qui prend en entrée deux points $A$ et $B$ (représentés par une liste de coordonnées) et retourne le vecteur $\\overrightarrow{AB}$. Complétez le code ci-dessous puis exécutez-le pour vérifier vos réponses."
   ]
  },
  {
   "cell_type": "code",
   "execution_count": null,
   "metadata": {},
   "outputs": [],
   "source": [
    "# Fonction pour créer un vecteur à partir de deux points\n",
    "def creer_vecteur(A, B):\n",
    "    # Complétez pour calculer les coordonnées du vecteur AB\n",
    "    x = ......\n",
    "    y = ......\n",
    "    return np.array(x, y)\n",
    "\n",
    "# Exemple d'utilisation\n",
    "A = (1, 2)\n",
    "B = (4, 6)\n",
    "vecteur_AB = creer_vecteur(A, B)\n",
    "print(\"Vecteur AB:\", vecteur_AB)"
   ]
  },
  {
   "cell_type": "markdown",
   "metadata": {},
   "source": [
    "## Exercice 3 : Vérification d'un Parallélogramme\n",
    "\n",
    "Créez une fonction `est_parallelogramme` qui prend en entrée quatre points `A`, `B`, `C` et `D` (représentés par des listes de coordonnées) et retourne `True` si le quadrilatère `ABCD` est un parallélogramme, et `False` sinon. Complétez le code ci-dessous puis exécutez-le pour vérifier vos réponses."
   ]
  },
  {
   "cell_type": "code",
   "execution_count": null,
   "metadata": {},
   "outputs": [],
   "source": [
    "# Fonction pour vérifier si un quadrilatère est un parallélogramme\n",
    "def est_parallelogramme(A, B, C, D):\n",
    "    # Complétez pour vérifier si les vecteurs AB et DC sont égaux\n",
    "    AB = creer_vecteur(..., ...)\n",
    "    DC = creer_vecteur(..., ...)\n",
    "    if np.array_equal(..., ...):\n",
    "        return ....\n",
    "    else:\n",
    "        return ....\n",
    "\n",
    "# Exemple d'utilisation\n",
    "A = (1, 2)\n",
    "B = (4, 4)\n",
    "C = (5, 3)\n",
    "D = (2, 5)\n",
    "print(\"Le quadrilatère ABCD est un parallélogramme:\", est_parallelogramme(A, B, C, D))"
   ]
  },
  {
   "cell_type": "markdown",
   "metadata": {},
   "source": [
    "## Exercice 4 : Somme de Vecteurs\n",
    "\n",
    "Calculez la somme des vecteurs `vecteur_a` et `vecteur_b`. Complétez le code ci-dessous puis exécutez-le pour vérifier vos réponses."
   ]
  },
  {
   "cell_type": "code",
   "execution_count": null,
   "metadata": {},
   "outputs": [],
   "source": [
    "# Somme de vecteurs\n",
    "somme = ........  # Complétez pour calculer la somme des vecteurs\n",
    "\n",
    "print(\"Vecteur A:\", vecteur_a)\n",
    "print(\"Vecteur B:\", vecteur_b)\n",
    "print(\"Somme des vecteurs A et B:\", somme)"
   ]
  },
  {
   "cell_type": "markdown",
   "metadata": {},
   "source": [
    "### Conjecture\n",
    "Formulez une conjecture sur la somme des vecteurs."
   ]
  },
  {
   "cell_type": "markdown",
   "metadata": {},
   "source": [
    "## Exercice 5 : Produit d'un Vecteur par un réel\n",
    "\n",
    "Calculez le produit du vecteur `vecteur_a` par 3. Complétez le code ci-dessous puis exécutez-le pour vérifier vos réponses."
   ]
  },
  {
   "cell_type": "code",
   "execution_count": null,
   "metadata": {},
   "outputs": [],
   "source": [
    "# Produit par un réel\n",
    "reel = 3\n",
    "produit = ......  #/ Complétez pour calculer le produit du vecteur par le réel\n",
    "\n",
    "print(\"Vecteur A:\", vecteur_a)\n",
    "print(\"Produit du vecteur A par\", reel, \":\", produit)"
   ]
  },
  {
   "cell_type": "markdown",
   "metadata": {},
   "source": [
    "### Conjecture\n",
    "Formulez une conjecture sur le produit d'un vecteur par un réel."
   ]
  },
  {
   "cell_type": "markdown",
   "metadata": {},
   "source": [
    "## Exercice 6 : Visualisation des Vecteurs\n",
    "\n",
    "Visualisez les vecteurs `vecteur_a`, `vecteur_b`, leur somme et le produit de `vecteur_a` par 3. Complétez le code ci-dessous puis exécutez-le pour vérifier vos réponses."
   ]
  },
  {
   "cell_type": "code",
   "execution_count": null,
   "metadata": {},
   "outputs": [],
   "source": [
    "# Visualisation des vecteurs\n",
    "plt.quiver(0, 0, vecteur_a[0], vecteur_a[1], angles='xy', scale_units='xy', scale=1, color='r', label='Vecteur A')\n",
    "plt.quiver(0, 0, vecteur_b[0], vecteur_b[1], angles='xy', scale_units='xy', scale=1, color='b', label='Vecteur B')\n",
    "plt.quiver(0, 0, somme[0], somme[1], angles='xy', scale_units='xy', scale=1, color='g', label='Somme A+B')\n",
    "plt.quiver(0, 0, produit[0], produit[1], angles='xy', scale_units='xy', scale=1, color='m', label='Produit 3*A')\n",
    "plt.xlim(-1, 10)\n",
    "plt.ylim(-1, 10)\n",
    "plt.legend()\n",
    "plt.grid()\n",
    "plt.show()"
   ]
  }
 ],
 "metadata": {
  "kernelspec": {
   "display_name": "Python 3",
   "language": "python",
   "name": "python3"
  },
  "language_info": {
   "codemirror_mode": {
    "name": "ipython",
    "version": 3
   },
   "file_extension": ".py",
   "mimetype": "text/x-python",
   "name": "python",
   "nbconvert_exporter": "python",
   "pygments_lexer": "ipython3",
   "version": "3.8.5"
  }
 },
 "nbformat": 4,
 "nbformat_minor": 4
}
